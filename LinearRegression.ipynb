{
  "nbformat": 4,
  "nbformat_minor": 0,
  "metadata": {
    "colab": {
      "name": "LinearRegression.ipynb",
      "provenance": [],
      "authorship_tag": "ABX9TyNBI254TK0/g6IdJiDJ8RiT",
      "include_colab_link": true
    },
    "kernelspec": {
      "name": "python3",
      "display_name": "Python 3"
    }
  },
  "cells": [
    {
      "cell_type": "markdown",
      "metadata": {
        "id": "view-in-github",
        "colab_type": "text"
      },
      "source": [
        "<a href=\"https://colab.research.google.com/github/itman0101/ML-practices/blob/master/LinearRegression.ipynb\" target=\"_parent\"><img src=\"https://colab.research.google.com/assets/colab-badge.svg\" alt=\"Open In Colab\"/></a>"
      ]
    },
    {
      "cell_type": "code",
      "metadata": {
        "id": "70GnSOhmSC03"
      },
      "source": [
        "import numpy as np\n",
        "import pandas as pd"
      ],
      "execution_count": 1,
      "outputs": []
    },
    {
      "cell_type": "code",
      "metadata": {
        "id": "UiiA7JSOSNfy"
      },
      "source": [
        "import matplotlib.pyplot as plt\n",
        "import seaborn as sns"
      ],
      "execution_count": 4,
      "outputs": []
    },
    {
      "cell_type": "code",
      "metadata": {
        "id": "Zl-WWPGiSS1A"
      },
      "source": [
        "%matplotlib inline"
      ],
      "execution_count": 5,
      "outputs": []
    },
    {
      "cell_type": "code",
      "metadata": {
        "id": "VQOPK-6OSfIx"
      },
      "source": [
        "from sklearn.datasets import load_boston\n",
        "\n",
        "\n",
        "data = load_boston()\n",
        "boston_df = pd.DataFrame(data.data, columns=data.feature_names)\n"
      ],
      "execution_count": 7,
      "outputs": []
    },
    {
      "cell_type": "code",
      "metadata": {
        "id": "EiTODhIpT-8v",
        "outputId": "e69d2ca7-ad8e-4f44-9fc4-9d54782f06d8",
        "colab": {
          "base_uri": "https://localhost:8080/",
          "height": 384
        }
      },
      "source": [
        "boston_df.info()"
      ],
      "execution_count": 12,
      "outputs": [
        {
          "output_type": "stream",
          "text": [
            "<class 'pandas.core.frame.DataFrame'>\n",
            "RangeIndex: 506 entries, 0 to 505\n",
            "Data columns (total 13 columns):\n",
            " #   Column   Non-Null Count  Dtype  \n",
            "---  ------   --------------  -----  \n",
            " 0   CRIM     506 non-null    float64\n",
            " 1   ZN       506 non-null    float64\n",
            " 2   INDUS    506 non-null    float64\n",
            " 3   CHAS     506 non-null    float64\n",
            " 4   NOX      506 non-null    float64\n",
            " 5   RM       506 non-null    float64\n",
            " 6   AGE      506 non-null    float64\n",
            " 7   DIS      506 non-null    float64\n",
            " 8   RAD      506 non-null    float64\n",
            " 9   TAX      506 non-null    float64\n",
            " 10  PTRATIO  506 non-null    float64\n",
            " 11  B        506 non-null    float64\n",
            " 12  LSTAT    506 non-null    float64\n",
            "dtypes: float64(13)\n",
            "memory usage: 51.5 KB\n"
          ],
          "name": "stdout"
        }
      ]
    },
    {
      "cell_type": "code",
      "metadata": {
        "id": "5drbjITiTUxn",
        "outputId": "1637ceec-efb1-4ce6-e2f8-b3a31274e318",
        "colab": {
          "base_uri": "https://localhost:8080/",
          "height": 72
        }
      },
      "source": [
        "boston_df.columns"
      ],
      "execution_count": 16,
      "outputs": [
        {
          "output_type": "execute_result",
          "data": {
            "text/plain": [
              "Index(['CRIM', 'ZN', 'INDUS', 'CHAS', 'NOX', 'RM', 'AGE', 'DIS', 'RAD', 'TAX',\n",
              "       'PTRATIO', 'B', 'LSTAT'],\n",
              "      dtype='object')"
            ]
          },
          "metadata": {
            "tags": []
          },
          "execution_count": 16
        }
      ]
    },
    {
      "cell_type": "code",
      "metadata": {
        "id": "lyNB2kPfTdtv"
      },
      "source": [
        "X = boston_df[['CRIM', 'ZN', 'INDUS', 'CHAS', 'NOX', 'RM', 'AGE', 'DIS', 'RAD', 'TAX',\n",
        "       'PTRATIO', 'B', 'LSTAT']]"
      ],
      "execution_count": 17,
      "outputs": []
    },
    {
      "cell_type": "code",
      "metadata": {
        "id": "ce1ud6EPU-wo"
      },
      "source": [
        "# i get the MEDV as name as target from load boston original file not from dataframe.\n",
        "y = data['target']"
      ],
      "execution_count": 22,
      "outputs": []
    },
    {
      "cell_type": "code",
      "metadata": {
        "id": "7Ev9Ghc6XteQ"
      },
      "source": [
        "from sklearn.model_selection import train_test_split"
      ],
      "execution_count": 27,
      "outputs": []
    },
    {
      "cell_type": "code",
      "metadata": {
        "id": "2duCHcSlYAm1"
      },
      "source": [
        "X_train, X_test, y_train, y_test = train_test_split(X, y, test_size=0.4, random_state=101)"
      ],
      "execution_count": 28,
      "outputs": []
    },
    {
      "cell_type": "code",
      "metadata": {
        "id": "hwA2UNKpWPXu"
      },
      "source": [
        "\n",
        "from sklearn.linear_model import LinearRegression"
      ],
      "execution_count": 29,
      "outputs": []
    },
    {
      "cell_type": "code",
      "metadata": {
        "id": "ZrrwG___W_76"
      },
      "source": [
        "lm = LinearRegression()"
      ],
      "execution_count": 30,
      "outputs": []
    },
    {
      "cell_type": "code",
      "metadata": {
        "id": "rJYqer_aYKR7",
        "outputId": "78817846-0294-4f0e-efe9-5db77d517d44",
        "colab": {
          "base_uri": "https://localhost:8080/",
          "height": 55
        }
      },
      "source": [
        "lm.fit(X_train,y_train)"
      ],
      "execution_count": 31,
      "outputs": [
        {
          "output_type": "execute_result",
          "data": {
            "text/plain": [
              "LinearRegression(copy_X=True, fit_intercept=True, n_jobs=None, normalize=False)"
            ]
          },
          "metadata": {
            "tags": []
          },
          "execution_count": 31
        }
      ]
    },
    {
      "cell_type": "code",
      "metadata": {
        "id": "685UhVmxXUHu",
        "outputId": "c086afe5-2594-4b29-f79b-5ad22f067176",
        "colab": {
          "base_uri": "https://localhost:8080/",
          "height": 35
        }
      },
      "source": [
        "print(lm.intercept_)"
      ],
      "execution_count": 32,
      "outputs": [
        {
          "output_type": "stream",
          "text": [
            "41.28149654473815\n"
          ],
          "name": "stdout"
        }
      ]
    },
    {
      "cell_type": "code",
      "metadata": {
        "id": "LAs6oppPYhly",
        "outputId": "c5113fda-79e2-4dd9-b136-a81f768d72c6",
        "colab": {
          "base_uri": "https://localhost:8080/",
          "height": 90
        }
      },
      "source": [
        "lm.coef_"
      ],
      "execution_count": 33,
      "outputs": [
        {
          "output_type": "execute_result",
          "data": {
            "text/plain": [
              "array([-7.75583711e-02,  4.20310157e-02,  9.11529473e-02,  4.13304932e+00,\n",
              "       -1.99765575e+01,  2.89019042e+00,  1.61533256e-02, -1.26474745e+00,\n",
              "        2.60170760e-01, -1.11251993e-02, -8.80555502e-01,  7.02445445e-03,\n",
              "       -6.43482813e-01])"
            ]
          },
          "metadata": {
            "tags": []
          },
          "execution_count": 33
        }
      ]
    },
    {
      "cell_type": "code",
      "metadata": {
        "id": "7GFCJ6BnYkgu"
      },
      "source": [
        "cdf = pd.DataFrame(lm.coef_,X.columns,columns=['Coef'])"
      ],
      "execution_count": 35,
      "outputs": []
    },
    {
      "cell_type": "code",
      "metadata": {
        "id": "86IeOQbMY1AI",
        "outputId": "556bb708-5004-49b4-9701-3bafe95d21c7",
        "colab": {
          "base_uri": "https://localhost:8080/",
          "height": 457
        }
      },
      "source": [
        "cdf"
      ],
      "execution_count": 36,
      "outputs": [
        {
          "output_type": "execute_result",
          "data": {
            "text/html": [
              "<div>\n",
              "<style scoped>\n",
              "    .dataframe tbody tr th:only-of-type {\n",
              "        vertical-align: middle;\n",
              "    }\n",
              "\n",
              "    .dataframe tbody tr th {\n",
              "        vertical-align: top;\n",
              "    }\n",
              "\n",
              "    .dataframe thead th {\n",
              "        text-align: right;\n",
              "    }\n",
              "</style>\n",
              "<table border=\"1\" class=\"dataframe\">\n",
              "  <thead>\n",
              "    <tr style=\"text-align: right;\">\n",
              "      <th></th>\n",
              "      <th>Coef</th>\n",
              "    </tr>\n",
              "  </thead>\n",
              "  <tbody>\n",
              "    <tr>\n",
              "      <th>CRIM</th>\n",
              "      <td>-0.077558</td>\n",
              "    </tr>\n",
              "    <tr>\n",
              "      <th>ZN</th>\n",
              "      <td>0.042031</td>\n",
              "    </tr>\n",
              "    <tr>\n",
              "      <th>INDUS</th>\n",
              "      <td>0.091153</td>\n",
              "    </tr>\n",
              "    <tr>\n",
              "      <th>CHAS</th>\n",
              "      <td>4.133049</td>\n",
              "    </tr>\n",
              "    <tr>\n",
              "      <th>NOX</th>\n",
              "      <td>-19.976557</td>\n",
              "    </tr>\n",
              "    <tr>\n",
              "      <th>RM</th>\n",
              "      <td>2.890190</td>\n",
              "    </tr>\n",
              "    <tr>\n",
              "      <th>AGE</th>\n",
              "      <td>0.016153</td>\n",
              "    </tr>\n",
              "    <tr>\n",
              "      <th>DIS</th>\n",
              "      <td>-1.264747</td>\n",
              "    </tr>\n",
              "    <tr>\n",
              "      <th>RAD</th>\n",
              "      <td>0.260171</td>\n",
              "    </tr>\n",
              "    <tr>\n",
              "      <th>TAX</th>\n",
              "      <td>-0.011125</td>\n",
              "    </tr>\n",
              "    <tr>\n",
              "      <th>PTRATIO</th>\n",
              "      <td>-0.880556</td>\n",
              "    </tr>\n",
              "    <tr>\n",
              "      <th>B</th>\n",
              "      <td>0.007024</td>\n",
              "    </tr>\n",
              "    <tr>\n",
              "      <th>LSTAT</th>\n",
              "      <td>-0.643483</td>\n",
              "    </tr>\n",
              "  </tbody>\n",
              "</table>\n",
              "</div>"
            ],
            "text/plain": [
              "              Coef\n",
              "CRIM     -0.077558\n",
              "ZN        0.042031\n",
              "INDUS     0.091153\n",
              "CHAS      4.133049\n",
              "NOX     -19.976557\n",
              "RM        2.890190\n",
              "AGE       0.016153\n",
              "DIS      -1.264747\n",
              "RAD       0.260171\n",
              "TAX      -0.011125\n",
              "PTRATIO  -0.880556\n",
              "B         0.007024\n",
              "LSTAT    -0.643483"
            ]
          },
          "metadata": {
            "tags": []
          },
          "execution_count": 36
        }
      ]
    },
    {
      "cell_type": "markdown",
      "metadata": {
        "id": "v2XQBsupZcvI"
      },
      "source": [
        "  # **Predictions**\n",
        "\n",
        "> after propering data and fit the model on it , it's time to make predictions and evaluate the model.\n",
        "\n"
      ]
    },
    {
      "cell_type": "code",
      "metadata": {
        "id": "Yi0rgmqeY8jt"
      },
      "source": [
        "predictions = lm.predict(X_test)"
      ],
      "execution_count": 37,
      "outputs": []
    },
    {
      "cell_type": "code",
      "metadata": {
        "id": "kxCK6bu4aL-T",
        "outputId": "ceb3cd23-7940-492f-ef79-6523809cdaa5",
        "colab": {
          "base_uri": "https://localhost:8080/",
          "height": 770
        }
      },
      "source": [
        "predictions"
      ],
      "execution_count": 38,
      "outputs": [
        {
          "output_type": "execute_result",
          "data": {
            "text/plain": [
              "array([38.76995104, 27.39271318, 16.26805601, 16.64592872, 30.5945708 ,\n",
              "       31.37975753, 37.68282481,  7.57986744, 33.62371472,  6.94206736,\n",
              "       30.00015138, 13.74184077, 16.41357803, 17.5975484 , 24.92452314,\n",
              "       20.61277162,  6.84027833, 32.74459645, 28.14176473, 24.87051184,\n",
              "       12.01460369, 19.89597528, 22.93223855, 24.84808083, 33.41944923,\n",
              "       18.2663553 , 32.40616206, 19.07263109, 27.85446156, 33.36724349,\n",
              "       20.31071184, 18.71427039, 36.3942392 , 43.97914411, 28.53636198,\n",
              "       22.23810379, 15.23341286, 18.4441601 ,  2.99896469, 30.75373687,\n",
              "       23.98495287, 17.65233987, 33.49269972, 13.72450288, 17.45026475,\n",
              "       25.3864821 , 29.9370352 , 16.43822597, 27.0157306 , 23.23886475,\n",
              "       31.8958797 , 36.8917952 , 22.96758436, 18.06656811, 30.34602124,\n",
              "       -0.30828515, 19.8446382 , 16.6131071 , 23.63902347, 21.26225918,\n",
              "       29.69766593,  3.14282554, 16.86387632, 19.76329036,  9.71050797,\n",
              "       24.21870511, 24.27695942, 19.87071765, 17.16247142, 19.85216234,\n",
              "       23.74078001, 21.56791537, 23.14099313, 20.54638573, 27.77053085,\n",
              "       21.2590119 , 36.87579928,  8.05035628, 28.9146871 , 16.70037511,\n",
              "       15.70980238, 19.14484394, 29.65683713, 16.86617546, 10.15073018,\n",
              "       21.34814159, 21.81482232, 32.18098353, 22.24314075, 21.75449868,\n",
              "       12.50117018, 10.64264803, 22.59103858, 32.00987194,  5.75604165,\n",
              "       34.05952126,  7.04112579, 31.53788515,  9.02176123, 21.19511453,\n",
              "       32.37147301, 21.32823602, 27.19438339, 24.91207186, 23.08174295,\n",
              "       24.76969659, 24.77145042, 30.14032582, 36.63344929, 32.59298802,\n",
              "       23.27852444, 35.5111093 , 24.17973314, 22.05040637, 29.57566524,\n",
              "       26.94598149, 28.86934886, 30.98598123, 26.77898549, 28.83037557,\n",
              "       16.05739187, 20.89220193, 21.91047939, 36.88601261, 25.01402328,\n",
              "       23.53157107, 15.12274061,  5.50883218, 14.14631563, 23.87422049,\n",
              "       26.85906918, 33.17708597, 24.22078613, 19.60743115, 24.54377589,\n",
              "       26.24871922, 30.8997013 , 26.2619873 , 33.44890707, 23.05544279,\n",
              "       12.12838356, 35.44082938, 31.79591619, 16.5997814 , 25.17956469,\n",
              "       19.77417177, 20.07188943, 24.67905941, 26.64881616, 29.50609111,\n",
              "       16.87246772, 16.25039628, 40.96167542, 36.18058639, 22.00214486,\n",
              "       21.47973172, 23.48638653, 12.67663095, 20.83340172, 24.99555373,\n",
              "       19.27796673, 29.13806185, 40.15324017, 22.1316772 , 26.14454982,\n",
              "       23.02029457, 18.61562996, 30.48499643, 17.42381182, 10.92515821,\n",
              "       18.66294924, 33.26084439, 34.96275041, 20.74820685,  1.70547647,\n",
              "       18.03065088, 27.34915728, 18.06414053, 28.56520062, 24.41093319,\n",
              "       27.53096541, 20.55435421, 22.62919622, 37.78233999, 26.87713512,\n",
              "       37.38740447, 25.79142163, 14.81336505, 22.11034091, 17.09095927,\n",
              "       25.08768209, 35.57385009,  8.21251303, 20.29558413, 19.03028948,\n",
              "       26.45168363, 24.24592238, 18.52485619, 21.43469229, 35.01450733,\n",
              "       20.96970996, 23.6978562 , 28.08966447])"
            ]
          },
          "metadata": {
            "tags": []
          },
          "execution_count": 38
        }
      ]
    },
    {
      "cell_type": "code",
      "metadata": {
        "id": "A_vZ2XnHaNy8",
        "outputId": "77b1d4fd-56b9-4712-e518-387ea0dc9e50",
        "colab": {
          "base_uri": "https://localhost:8080/",
          "height": 283
        }
      },
      "source": [
        "plt.scatter(y_test,predictions)"
      ],
      "execution_count": 39,
      "outputs": [
        {
          "output_type": "execute_result",
          "data": {
            "text/plain": [
              "<matplotlib.collections.PathCollection at 0x7face5f72b38>"
            ]
          },
          "metadata": {
            "tags": []
          },
          "execution_count": 39
        },
        {
          "output_type": "display_data",
          "data": {
            "image/png": "[encoded data removed]",
            "text/plain": [
              "<Figure size 432x288 with 1 Axes>"
            ]
          },
          "metadata": {
            "tags": [],
            "needs_background": "light"
          }
        }
      ]
    },
    {
      "cell_type": "code",
      "metadata": {
        "id": "LKb3EyPvaY_l",
        "outputId": "7560deee-111a-48da-8081-97cd0348d25d",
        "colab": {
          "base_uri": "https://localhost:8080/",
          "height": 340
        }
      },
      "source": [
        "sns.distplot((y_test - predictions))"
      ],
      "execution_count": 40,
      "outputs": [
        {
          "output_type": "stream",
          "text": [
            "/usr/local/lib/python3.6/dist-packages/seaborn/distributions.py:2551: FutureWarning: `distplot` is a deprecated function and will be removed in a future version. Please adapt your code to use either `displot` (a figure-level function with similar flexibility) or `histplot` (an axes-level function for histograms).\n",
            "  warnings.warn(msg, FutureWarning)\n"
          ],
          "name": "stderr"
        },
        {
          "output_type": "execute_result",
          "data": {
            "text/plain": [
              "<matplotlib.axes._subplots.AxesSubplot at 0x7face43c76d8>"
            ]
          },
          "metadata": {
            "tags": []
          },
          "execution_count": 40
        },
        {
          "output_type": "display_data",
          "data": {
            "image/png": "[encoded data removed]",
            "text/plain": [
              "<Figure size 432x288 with 1 Axes>"
            ]
          },
          "metadata": {
            "tags": [],
            "needs_background": "light"
          }
        }
      ]
    },
    {
      "cell_type": "code",
      "metadata": {
        "id": "fXqk2I7Xaoud"
      },
      "source": [
        "from sklearn import metrics"
      ],
      "execution_count": 41,
      "outputs": []
    },
    {
      "cell_type": "code",
      "metadata": {
        "id": "wRETH35la0Jc",
        "outputId": "5477ad65-812f-4883-9017-999fd168e0c0",
        "colab": {
          "base_uri": "https://localhost:8080/",
          "height": 35
        }
      },
      "source": [
        "metrics.mean_absolute_error(y_test,predictions)"
      ],
      "execution_count": 42,
      "outputs": [
        {
          "output_type": "execute_result",
          "data": {
            "text/plain": [
              "3.905144802627518"
            ]
          },
          "metadata": {
            "tags": []
          },
          "execution_count": 42
        }
      ]
    },
    {
      "cell_type": "code",
      "metadata": {
        "id": "PePtQTvabKGs",
        "outputId": "39e1ad82-e22a-477c-b126-8e1184462a4c",
        "colab": {
          "base_uri": "https://localhost:8080/",
          "height": 35
        }
      },
      "source": [
        "metrics.mean_squared_error(y_test,predictions)"
      ],
      "execution_count": 43,
      "outputs": [
        {
          "output_type": "execute_result",
          "data": {
            "text/plain": [
              "29.416365467452977"
            ]
          },
          "metadata": {
            "tags": []
          },
          "execution_count": 43
        }
      ]
    },
    {
      "cell_type": "code",
      "metadata": {
        "id": "gafQgoC_bSrk",
        "outputId": "1560632a-bd3d-4bf1-82cb-5d3f377a5fb9",
        "colab": {
          "base_uri": "https://localhost:8080/",
          "height": 35
        }
      },
      "source": [
        "np.sqrt(metrics.mean_squared_error(y_test,predictions))"
      ],
      "execution_count": 45,
      "outputs": [
        {
          "output_type": "execute_result",
          "data": {
            "text/plain": [
              "5.423685598138316"
            ]
          },
          "metadata": {
            "tags": []
          },
          "execution_count": 45
        }
      ]
    },
    {
      "cell_type": "code",
      "metadata": {
        "id": "RDI1BdoTbXqE"
      },
      "source": [
        ""
      ],
      "execution_count": null,
      "outputs": []
    }
  ]
}