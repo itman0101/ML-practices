{
  "nbformat": 4,
  "nbformat_minor": 0,
  "metadata": {
    "colab": {
      "name": "Py_notes.ipynb",
      "provenance": [],
      "authorship_tag": "ABX9TyMZKnERcbzm4wfg1yQ6CzoG",
      "include_colab_link": true
    },
    "kernelspec": {
      "name": "python3",
      "display_name": "Python 3"
    },
    "language_info": {
      "name": "python"
    }
  },
  "cells": [
    {
      "cell_type": "markdown",
      "metadata": {
        "id": "view-in-github",
        "colab_type": "text"
      },
      "source": [
        "<a href=\"https://colab.research.google.com/github/itman0101/ML-practices/blob/master/Py_notes.ipynb\" target=\"_parent\"><img src=\"https://colab.research.google.com/assets/colab-badge.svg\" alt=\"Open In Colab\"/></a>"
      ]
    },
    {
      "cell_type": "markdown",
      "metadata": {
        "id": "ynWLJiR0XWMG"
      },
      "source": [
        "# This is my python notes\n",
        "from books and codes"
      ]
    },
    {
      "cell_type": "markdown",
      "metadata": {
        "id": "U2ihy9cQX1Wa"
      },
      "source": [
        "# part 1.1 : clean code\n",
        "## 1. comma seprated world\n",
        "one of the main parts in programming is programmer he/she him/her self. so firty structure of code can make error in code.\n"
      ]
    },
    {
      "cell_type": "code",
      "metadata": {
        "id": "NPdZ9ThFYi2P"
      },
      "source": [
        "names = ['bob','alice', 'dilbert']"
      ],
      "execution_count": null,
      "outputs": []
    },
    {
      "cell_type": "markdown",
      "metadata": {
        "id": "PFW4fYaJY-h5"
      },
      "source": [
        "in this structure first thing that can happen is that the 'git diff' dont work properly ... cuase it work based on defrrention on new lines... and cuase there is no new line there is no diffrention from view of git\n",
        "\n",
        "so it is better to write like this "
      ]
    },
    {
      "cell_type": "code",
      "metadata": {
        "id": "alUd9njwZ9Q-"
      },
      "source": [
        "names=[\n",
        "       'bob',\n",
        "       'alice',\n",
        "       'dilbert',\n",
        "]"
      ],
      "execution_count": null,
      "outputs": []
    },
    {
      "cell_type": "markdown",
      "metadata": {
        "id": "cNoaLGhCaTXu"
      },
      "source": [
        "note that at last line at the end of line put ',' cuase it avoid from future errors...\n"
      ]
    },
    {
      "cell_type": "code",
      "metadata": {
        "colab": {
          "base_uri": "https://localhost:8080/"
        },
        "id": "btLFbtDhayIX",
        "outputId": "fee45464-a337-4e98-a98b-e15e6c90946c"
      },
      "source": [
        "names\n"
      ],
      "execution_count": null,
      "outputs": [
        {
          "output_type": "execute_result",
          "data": {
            "text/plain": [
              "['bob', 'alice', 'dilbert']"
            ]
          },
          "metadata": {},
          "execution_count": 4
        }
      ]
    },
    {
      "cell_type": "markdown",
      "metadata": {
        "id": "LlVz6yIPbSrH"
      },
      "source": [
        "## 2.Assertion \n",
        "there is many ways to code debuging and also many tools...\n",
        "in simple word assertion is thing like if from python itself that check some statement and raise error in false condition\n",
        "for example think about discount formule. it is statement that check final price be in betwen zero and product price if this limit breack somewhere we face with error like thing down below\n"
      ]
    },
    {
      "cell_type": "code",
      "metadata": {
        "id": "rvHN294ndK5R"
      },
      "source": [
        "def apply_discount(product, discount):\n",
        "  price = int(product['price']*(1.0-discount))\n",
        "  assert 0<=price<=product['price']\n",
        "  return price\n",
        "\n",
        "shoes ={'names':'black one','price':14900}"
      ],
      "execution_count": null,
      "outputs": []
    },
    {
      "cell_type": "code",
      "metadata": {
        "colab": {
          "base_uri": "https://localhost:8080/"
        },
        "id": "97nZXbcjes9c",
        "outputId": "c7b4b4a3-548c-4d2e-f1ac-e555d4b73d06"
      },
      "source": [
        "apply_discount(shoes,0.25)"
      ],
      "execution_count": null,
      "outputs": [
        {
          "output_type": "execute_result",
          "data": {
            "text/plain": [
              "11175"
            ]
          },
          "metadata": {},
          "execution_count": 8
        }
      ]
    },
    {
      "cell_type": "code",
      "metadata": {
        "colab": {
          "base_uri": "https://localhost:8080/",
          "height": 423
        },
        "id": "umXRMF_Qe6Ta",
        "outputId": "e1e91b51-552a-4a7a-b371-d141b6dfbc64"
      },
      "source": [
        "apply_discount(shoes,1.2)"
      ],
      "execution_count": null,
      "outputs": [
        {
          "output_type": "error",
          "ename": "AssertionError",
          "evalue": "ignored",
          "traceback": [
            "\u001b[0;31m---------------------------------------------------------------------------\u001b[0m",
            "\u001b[0;31mAssertionError\u001b[0m                            Traceback (most recent call last)",
            "\u001b[0;32m<ipython-input-9-418d767e0586>\u001b[0m in \u001b[0;36m<module>\u001b[0;34m()\u001b[0m\n\u001b[0;32m----> 1\u001b[0;31m \u001b[0mapply_discount\u001b[0m\u001b[0;34m(\u001b[0m\u001b[0mshoes\u001b[0m\u001b[0;34m,\u001b[0m\u001b[0;36m1.2\u001b[0m\u001b[0;34m)\u001b[0m\u001b[0;34m\u001b[0m\u001b[0;34m\u001b[0m\u001b[0m\n\u001b[0m",
            "\u001b[0;32m<ipython-input-7-4f74d130059f>\u001b[0m in \u001b[0;36mapply_discount\u001b[0;34m(product, discount)\u001b[0m\n\u001b[1;32m      1\u001b[0m \u001b[0;32mdef\u001b[0m \u001b[0mapply_discount\u001b[0m\u001b[0;34m(\u001b[0m\u001b[0mproduct\u001b[0m\u001b[0;34m,\u001b[0m \u001b[0mdiscount\u001b[0m\u001b[0;34m)\u001b[0m\u001b[0;34m:\u001b[0m\u001b[0;34m\u001b[0m\u001b[0;34m\u001b[0m\u001b[0m\n\u001b[1;32m      2\u001b[0m   \u001b[0mprice\u001b[0m \u001b[0;34m=\u001b[0m \u001b[0mint\u001b[0m\u001b[0;34m(\u001b[0m\u001b[0mproduct\u001b[0m\u001b[0;34m[\u001b[0m\u001b[0;34m'price'\u001b[0m\u001b[0;34m]\u001b[0m\u001b[0;34m*\u001b[0m\u001b[0;34m(\u001b[0m\u001b[0;36m1.0\u001b[0m\u001b[0;34m-\u001b[0m\u001b[0mdiscount\u001b[0m\u001b[0;34m)\u001b[0m\u001b[0;34m)\u001b[0m\u001b[0;34m\u001b[0m\u001b[0;34m\u001b[0m\u001b[0m\n\u001b[0;32m----> 3\u001b[0;31m   \u001b[0;32massert\u001b[0m \u001b[0;36m0\u001b[0m\u001b[0;34m<=\u001b[0m\u001b[0mprice\u001b[0m\u001b[0;34m<=\u001b[0m\u001b[0mproduct\u001b[0m\u001b[0;34m[\u001b[0m\u001b[0;34m'price'\u001b[0m\u001b[0;34m]\u001b[0m\u001b[0;34m\u001b[0m\u001b[0;34m\u001b[0m\u001b[0m\n\u001b[0m\u001b[1;32m      4\u001b[0m   \u001b[0;32mreturn\u001b[0m \u001b[0mprice\u001b[0m\u001b[0;34m\u001b[0m\u001b[0;34m\u001b[0m\u001b[0m\n\u001b[1;32m      5\u001b[0m \u001b[0;34m\u001b[0m\u001b[0m\n",
            "\u001b[0;31mAssertionError\u001b[0m: "
          ]
        }
      ]
    },
    {
      "cell_type": "markdown",
      "metadata": {
        "id": "o95qh0cffJsg"
      },
      "source": [
        "it is what it is...\n",
        "assertion help us so much that we find the error point and even make our attention on input and sturactre of our formual"
      ]
    }
  ]
}